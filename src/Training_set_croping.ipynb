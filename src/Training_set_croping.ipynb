{
 "cells": [
  {
   "cell_type": "code",
   "execution_count": 6,
   "metadata": {},
   "outputs": [
    {
     "name": "stdout",
     "output_type": "stream",
     "text": [
      "Done Training/nexet_2017_3\n"
     ]
    }
   ],
   "source": [
    "# import numpy as np\n",
    "import csv\n",
    "import os\n",
    "\n",
    "from PIL import Image\n",
    "\n",
    "import matplotlib.pyplot as plt\n",
    "import matplotlib.image as mpimg\n",
    "from matplotlib.pyplot import imshow\n",
    "\n",
    "\n",
    "# Load Boxes databse\n",
    "reader = csv.reader(open('Training/train_boxes.csv'))\n",
    "train_boxes = []\n",
    "next(reader)\n",
    "for row in reader:\n",
    "    train_boxes.append(  [row[0] , row[1],int(float(row[2])),int(float(row[3])),int(float(row[4])),\n",
    "                             int(float(row[5])), row[6],float(row[7]) ]  )\n",
    "\n",
    "# Explore images dataset\n",
    "files_source = \"Training/nexet_2017_3\"\n",
    "DS_filenames = os.listdir(files_source)\n",
    "\n",
    "# Dir where to save the car-rears\n",
    "dir_cars = os.getcwd()+\"/Training/vehicles_rears\"\n",
    "\n",
    "# Search all images and crop them\n",
    "for box_matched in train_boxes:\n",
    "    try: # Just in case this file is not yet decompressed, skip if not in accessible\n",
    "#         #show\n",
    "#         img=mpimg.imread(\"Training/nexet_2017_1/\"+box_matched[0])\n",
    "#         imgplot = plt.imshow(img)\n",
    "#         plt.show()\n",
    "        \n",
    "        img = Image.open(files_source+\"/\"+box_matched[0])\n",
    "#         img.show()\n",
    "\n",
    "        #Crop & Save\n",
    "        img2 = img.crop(tuple(box_matched[2:6]))\n",
    "#         img2.show()\n",
    "        img2.save( dir_cars+\"/\"+box_matched[6]+\"/\"+box_matched[1]+\".jpg\"  )\n",
    "        \n",
    "        img.close()\n",
    "        img2.close()\n",
    "    except:\n",
    "        pass\n",
    "#     raw_input(\"Press Enter to continue...\")\n",
    "    \n",
    "print \"Done \"+files_source\n"
   ]
  }
 ],
 "metadata": {
  "kernelspec": {
   "display_name": "Python 2",
   "language": "python",
   "name": "python2"
  },
  "language_info": {
   "codemirror_mode": {
    "name": "ipython",
    "version": 2
   },
   "file_extension": ".py",
   "mimetype": "text/x-python",
   "name": "python",
   "nbconvert_exporter": "python",
   "pygments_lexer": "ipython2",
   "version": "2.7.6"
  }
 },
 "nbformat": 4,
 "nbformat_minor": 2
}
