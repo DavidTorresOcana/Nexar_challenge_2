{
 "cells": [
  {
   "cell_type": "code",
   "execution_count": null,
   "metadata": {},
   "outputs": [
    {
     "name": "stdout",
     "output_type": "stream",
     "text": [
      "datashet  1\n"
     ]
    }
   ],
   "source": [
    "import numpy as np\n",
    "import pandas as pd\n",
    "from scipy import misc\n",
    "import matplotlib.pyplot as plt\n",
    "import matplotlib.image as mpimg\n",
    "import os\n",
    "\n",
    "from IPython.core.interactiveshell import InteractiveShell\n",
    "InteractiveShell.ast_node_interactivity = \"all\" # importing iPython output fucntioanlity \n",
    "\n",
    "os.chdir(\"../data\")\n",
    "\n",
    "files_source =  os.getcwd()+'/Training/nexet_2017_'\n",
    "dir_cars = os.getcwd()+\"/Training/vehicles_rears\"\n",
    "\n",
    "Img_db = pd.read_csv(os.getcwd()+'/Training/train_boxes.csv', header = 0).as_matrix()\n",
    "\n",
    "img = misc.face()\n",
    "\n",
    "for dts in range(1,4):\n",
    "    print \"dataset \", dts\n",
    "    for box_matched in Img_db:\n",
    "        try:\n",
    "            img2 = mpimg.imread(files_source+str(dts)+\"/\"+box_matched[0])\n",
    "            \n",
    "#             plt.imshow(img2)\n",
    "#             plt.show()\n",
    "\n",
    "            # save the sample\n",
    "            mpimg.imsave( dir_cars+\"/\"+box_matched[6]+\"/\"+box_matched[1]+\".jpg\" ,\n",
    "                         img2[int(box_matched[3]):int(box_matched[5]),int(box_matched[2]):int(box_matched[4])]  )\n",
    "\n",
    "            # produce random background\n",
    "#             try:\n",
    "#                 img2_n = img2[int(-0.5*box_matched[5]+1.5*box_matched[3]):int(box_matched[3]),int(-0.5*box_matched[4]+1.5*box_matched[2]):int(box_matched[2])] \n",
    "#                 mpimg.imsave( dir_cars+\"/nothing/\"+box_matched[1]+\"_noting1.jpg\" , img2_n )\n",
    "#             except:\n",
    "#                 os.remove(dir_cars+\"/nothing/\"+box_matched[1]+\"_noting1.jpg\")\n",
    "#             try:\n",
    "#                 img2_n = img2[int(2*box_matched[3]-box_matched[5]):int(box_matched[3]),int(box_matched[2]):int(box_matched[4])] \n",
    "#                 mpimg.imsave( dir_cars+\"/nothing/\"+box_matched[1]+\"_noting2.jpg\" , img2_n )\n",
    "#             except:\n",
    "#                 os.remove(dir_cars+\"/nothing/\"+box_matched[1]+\"_noting2.jpg\")\n",
    "#             try:\n",
    "#                 img2_n = img2[int(-0.5*box_matched[5]+1.5*box_matched[3]):int(box_matched[3]),int(box_matched[4]):int(1.5*box_matched[4]-0.5*box_matched[2])] \n",
    "#                 mpimg.imsave( dir_cars+\"/nothing/\"+box_matched[1]+\"_noting3.jpg\" , img2_n )\n",
    "#             except:\n",
    "#                 os.remove(dir_cars+\"/nothing/\"+box_matched[1]+\"_noting3.jpg\")\n",
    "#             try:\n",
    "#                 img2_n = img2[int(box_matched[5]):int(1.5*box_matched[5]-0.5*box_matched[3]),int(-0.5*box_matched[4]+1.5*box_matched[2]):int(box_matched[2])] \n",
    "#                 mpimg.imsave( dir_cars+\"/nothing/\"+box_matched[1]+\"_noting4.jpg\" , img2_n )\n",
    "#             except:\n",
    "#                 os.remove(dir_cars+\"/nothing/\"+box_matched[1]+\"_noting4.jpg\")\n",
    "#             try:\n",
    "#                 img2_n = img2[int(box_matched[5]):int(2*box_matched[5]-box_matched[3]),int(box_matched[2]):int(box_matched[4])] \n",
    "#                 mpimg.imsave( dir_cars+\"/nothing/\"+box_matched[1]+\"_noting5.jpg\" , img2_n )\n",
    "#             except:\n",
    "#                 os.remove(dir_cars+\"/nothing/\"+box_matched[1]+\"_noting5.jpg\")\n",
    "#             try:\n",
    "#                 img2_n = img2[int(box_matched[5]):int(1.5*box_matched[5]-0.5*box_matched[3]),int(box_matched[4]):int(1.5*box_matched[4]-0.5*box_matched[2])] \n",
    "#                 mpimg.imsave( dir_cars+\"/nothing/\"+box_matched[1]+\"_noting6.jpg\" , img2_n )\n",
    "#             except:\n",
    "#                 os.remove(dir_cars+\"/nothing/\"+box_matched[1]+\"_noting6.jpg\")\n",
    "        except:\n",
    "            pass\n",
    "#         raw_input(\"Press Enter to continue...\")\n",
    "    "
   ]
  },
  {
   "cell_type": "code",
   "execution_count": null,
   "metadata": {},
   "outputs": [],
   "source": []
  }
 ],
 "metadata": {
  "kernelspec": {
   "display_name": "Python 2",
   "language": "python",
   "name": "python2"
  },
  "language_info": {
   "codemirror_mode": {
    "name": "ipython",
    "version": 2
   },
   "file_extension": ".py",
   "mimetype": "text/x-python",
   "name": "python",
   "nbconvert_exporter": "python",
   "pygments_lexer": "ipython2",
   "version": "2.7.12"
  }
 },
 "nbformat": 4,
 "nbformat_minor": 2
}
