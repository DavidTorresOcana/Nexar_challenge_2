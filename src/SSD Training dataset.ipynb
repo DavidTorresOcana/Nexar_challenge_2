{
 "cells": [
  {
   "cell_type": "code",
   "execution_count": null,
   "metadata": {},
   "outputs": [],
   "source": [
    "import numpy as np\n",
    "import pandas as pd\n",
    "from scipy import misc\n",
    "import matplotlib.pyplot as plt\n",
    "import matplotlib.image as mpimg\n",
    "import os\n",
    "\n",
    "from IPython.core.interactiveshell import InteractiveShell\n",
    "InteractiveShell.ast_node_interactivity = \"all\" # importing iPython output fucntioanlity \n",
    "\n",
    "os.chdir(\"../data\")\n",
    "\n",
    "files_source = os.getcwd() + \"/Training/nexet_2017_\"\n",
    "\n",
    "Imgs_DS_dir = os.getcwd() + \"/ssd_training_set/Images\"\n",
    "Labels_DS_dir = os.getcwd() + \"/ssd_training_set/Images\"\n",
    "DS_index = 0;\n",
    "\n",
    "Img_db = pd.read_csv('/Training/train_boxes.csv', header = 0).as_matrix()\n",
    "\n",
    "for dts in range(1,4):\n",
    "    print \"Dataset \", dts\n",
    "    for box_matched in Img_db:\n",
    "#         try:\n",
    "            img2 = mpimg.imread(files_source+str(dts)+\"/\"+box_matched[0])\n",
    "            os.rename(files_source+str(dts)+\"/\"+box_matched[0], Imgs_DS_dir+str(DS_index)+\".jpg\")\n",
    "            \n",
    "            # Increase DataSet index\n",
    "            DS_index += 1;\n",
    "#         except:\n",
    "#             pass\n",
    "        raw_input(\"Press Enter to continue...\")"
   ]
  },
  {
   "cell_type": "code",
   "execution_count": null,
   "metadata": {},
   "outputs": [],
   "source": []
  }
 ],
 "metadata": {
  "kernelspec": {
   "display_name": "Python 2",
   "language": "python",
   "name": "python2"
  },
  "language_info": {
   "codemirror_mode": {
    "name": "ipython",
    "version": 2
   },
   "file_extension": ".py",
   "mimetype": "text/x-python",
   "name": "python",
   "nbconvert_exporter": "python",
   "pygments_lexer": "ipython2",
   "version": "2.7.12"
  }
 },
 "nbformat": 4,
 "nbformat_minor": 2
}
